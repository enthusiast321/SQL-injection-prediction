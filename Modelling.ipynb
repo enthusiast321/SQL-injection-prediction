{
  "nbformat": 4,
  "nbformat_minor": 0,
  "metadata": {
    "colab": {
      "provenance": []
    },
    "kernelspec": {
      "name": "python3",
      "display_name": "Python 3"
    },
    "language_info": {
      "name": "python"
    }
  },
  "cells": [
    {
      "cell_type": "code",
      "source": [
        "import scipy.sparse as sp\n",
        "from sklearn.linear_model import LogisticRegression\n",
        "from sklearn.preprocessing import StandardScaler\n",
        "import pandas as pd\n",
        "import warnings\n",
        "warnings.filterwarnings(\"ignore\")\n",
        "from sklearn.model_selection import RandomizedSearchCV,GridSearchCV\n",
        "from sklearn.naive_bayes import MultinomialNB\n",
        "from sklearn.metrics import roc_curve,auc,confusion_matrix, roc_auc_score, ConfusionMatrixDisplay, f1_score\n",
        "import matplotlib.pyplot as plt\n",
        "from math import log\n",
        "import numpy as np\n",
        "import seaborn as sns\n",
        "import lightgbm as lgb\n",
        "from sklearn.metrics import accuracy_score\n",
        "from sklearn.linear_model import SGDClassifier\n",
        "from sklearn.calibration import CalibratedClassifierCV\n",
        "from prettytable import PrettyTable\n",
        "from random import randrange \n",
        "from random import seed\n",
        "from prettytable import PrettyTable"
      ],
      "metadata": {
        "id": "NfDioqK36amD"
      },
      "execution_count": null,
      "outputs": []
    },
    {
      "cell_type": "code",
      "execution_count": null,
      "metadata": {
        "colab": {
          "base_uri": "https://localhost:8080/"
        },
        "id": "knYbagNLw0IC",
        "outputId": "52dad9d0-bb7a-4885-9982-eb0cb59a1bfd"
      },
      "outputs": [
        {
          "output_type": "stream",
          "name": "stdout",
          "text": [
            "(23165, 40029)\n",
            "(7728, 40029)\n"
          ]
        }
      ],
      "source": [
        "loaded_train_features = sp.load_npz(\"train_features.npz\")\n",
        "loaded_test_features = sp.load_npz(\"test_features.npz\")\n",
        "print(loaded_train_features.shape)\n",
        "print(loaded_test_features.shape)"
      ]
    },
    {
      "cell_type": "code",
      "source": [
        "y_train = pd.read_pickle('/content/y_train_vals.pkl') \n",
        "y_test = pd.read_pickle('/content/y_test_vals.pkl')"
      ],
      "metadata": {
        "id": "TumDn9dm4oyC"
      },
      "execution_count": null,
      "outputs": []
    },
    {
      "cell_type": "code",
      "source": [
        "y_train.shape"
      ],
      "metadata": {
        "colab": {
          "base_uri": "https://localhost:8080/"
        },
        "id": "5gnC_TBz5CcA",
        "outputId": "6cdb14f6-8435-49a7-857d-af5ee8094d3d"
      },
      "execution_count": null,
      "outputs": [
        {
          "output_type": "execute_result",
          "data": {
            "text/plain": [
              "(23165,)"
            ]
          },
          "metadata": {},
          "execution_count": 220
        }
      ]
    },
    {
      "cell_type": "code",
      "source": [
        "#Feature scaling\n",
        "scale = StandardScaler(with_mean=False)\n",
        "scaled_X_train = scale.fit_transform(loaded_train_features)\n",
        "scaled_X_test = scale.transform(loaded_test_features)"
      ],
      "metadata": {
        "id": "10ajf5iY7D2j"
      },
      "execution_count": null,
      "outputs": []
    },
    {
      "cell_type": "code",
      "source": [
        "def calc_metrics(cm,ytest,ypred,probval):\n",
        "    precision = cm[1][1]/(cm[1][1]+cm[0][1])\n",
        "    recall    = cm[1][1]/(cm[1][1]+cm[1][0])\n",
        "    f1_score  = (2*precision*recall)/(precision+recall)  \n",
        "    acc       = accuracy_score(ytest,ypred)\n",
        "    auc       = roc_auc_score(y_test,probval)\n",
        "    return precision, recall, f1_score, acc, auc"
      ],
      "metadata": {
        "id": "W2ApjK9-XbDG"
      },
      "execution_count": null,
      "outputs": []
    },
    {
      "cell_type": "markdown",
      "source": [
        "#Random Model"
      ],
      "metadata": {
        "id": "7fR2NFup1jxd"
      }
    },
    {
      "cell_type": "code",
      "source": [
        "#https://machinelearningmastery.com/implement-baseline-machine-learning-algorithms-scratch-python/\n",
        "# Generate random predictions\n",
        "def random_algorithm(train, test):\n",
        "    output_values = [row for row in train]\n",
        "    unique = list(set(output_values))\n",
        "    predicted = list()\n",
        "    for row in test:\n",
        "      index = randrange(len(unique))\n",
        "      predicted.append(unique[index])\n",
        "    return predicted"
      ],
      "metadata": {
        "id": "m7_m4qNb1rMD"
      },
      "execution_count": null,
      "outputs": []
    },
    {
      "cell_type": "code",
      "source": [
        "seed(1)\n",
        "predictions = random_algorithm(y_train, y_test)\n",
        "print('F1-Score of Random Model ',f1_score(y_test,predictions))\n",
        "print('Accuracy of Random Model ',accuracy_score(y_test,predictions))\n",
        "print('AUC of Random Model       0.5')"
      ],
      "metadata": {
        "colab": {
          "base_uri": "https://localhost:8080/"
        },
        "id": "DLZ1QaHL8wEQ",
        "outputId": "3786dcfe-2e75-4a24-b5f1-9da5f8791b6c"
      },
      "execution_count": null,
      "outputs": [
        {
          "output_type": "stream",
          "name": "stdout",
          "text": [
            "F1-Score of Random Model  0.4294021171909945\n",
            "Accuracy of Random Model  0.504787784679089\n",
            "AUC of Random Model       0.5\n"
          ]
        }
      ]
    },
    {
      "cell_type": "markdown",
      "source": [
        "#Logistic Regression"
      ],
      "metadata": {
        "id": "Ct8QAn7JYZ08"
      }
    },
    {
      "cell_type": "code",
      "source": [
        "lr_parameters = {'alpha':[10 ** x for x in range(-5, 5)]}\n",
        "lr_clf = SGDClassifier(loss='log',class_weight='balanced',random_state=30)\n",
        "lr_random = RandomizedSearchCV(lr_clf,param_distributions=lr_parameters,\n",
        "                               scoring='roc_auc',n_jobs=-1,cv=5,\n",
        "                               return_train_score=True)\n",
        "lr_random.fit(scaled_X_train,y_train)\n",
        "lr_probtest = lr_random.predict_proba(scaled_X_test)[:,1]\n",
        "print(\"Best alpha :\",lr_random.best_params_['alpha'])"
      ],
      "metadata": {
        "colab": {
          "base_uri": "https://localhost:8080/"
        },
        "id": "g8qplD12Yd08",
        "outputId": "f81e5773-8d30-478e-fc71-c8bc7d3991a6"
      },
      "execution_count": null,
      "outputs": [
        {
          "output_type": "stream",
          "name": "stdout",
          "text": [
            "Best alpha : 10\n"
          ]
        }
      ]
    },
    {
      "cell_type": "code",
      "source": [
        "plt.figure(figsize=(8,5))\n",
        "lr_alpha=lr_random.cv_results_['param_alpha']\n",
        "lr_train_auc = lr_random.cv_results_['mean_train_score']\n",
        "lr_test_auc = lr_random.cv_results_['mean_test_score']\n",
        "lr_log_alpha=[log(x) for x in lr_alpha]\n",
        "plt.plot(lr_log_alpha, lr_train_auc,color='red',label='Train AUC')\n",
        "plt.plot(lr_log_alpha, lr_test_auc, color='blue', label='Test AUC')\n",
        "plt.scatter(lr_log_alpha, lr_train_auc,color='red')\n",
        "plt.scatter(lr_log_alpha, lr_test_auc,color='blue')\n",
        "plt.title(\"Performance of the LR model for various alpha values\")\n",
        "plt.xlabel(\"Hyper parameter alpha\")\n",
        "plt.ylabel(\"AUC values\")\n",
        "plt.legend()\n",
        "plt.grid()\n",
        "plt.show()"
      ],
      "metadata": {
        "colab": {
          "base_uri": "https://localhost:8080/",
          "height": 350
        },
        "id": "3mdCZElcjG2K",
        "outputId": "3b708154-575a-45ca-9182-3fa46c320de7"
      },
      "execution_count": null,
      "outputs": [
        {
          "output_type": "display_data",
          "data": {
            "text/plain": [
              "<Figure size 576x360 with 1 Axes>"
            ],
            "image/png": "[encoded data removed]"
          },
          "metadata": {
            "needs_background": "light"
          }
        }
      ]
    },
    {
      "cell_type": "code",
      "source": [
        "lr_best_alpha = lr_random.best_params_['alpha']\n",
        "lr_best_model = SGDClassifier(alpha=lr_best_alpha, loss='log',random_state=30)\n",
        "lr_best_model.fit(scaled_X_train,y_train)"
      ],
      "metadata": {
        "colab": {
          "base_uri": "https://localhost:8080/"
        },
        "id": "z2p2xa9CkEG0",
        "outputId": "0f2be90d-dccb-41ea-9a1f-8a8756348960"
      },
      "execution_count": null,
      "outputs": [
        {
          "output_type": "execute_result",
          "data": {
            "text/plain": [
              "SGDClassifier(alpha=10, loss='log', random_state=30)"
            ]
          },
          "metadata": {},
          "execution_count": 237
        }
      ]
    },
    {
      "cell_type": "code",
      "source": [
        "lr_pred_best = lr_best_model.predict(scaled_X_test)\n",
        "lr_cm=confusion_matrix(y_test,lr_pred_best)\n",
        "disp = ConfusionMatrixDisplay(confusion_matrix=lr_cm)\n",
        "disp.plot()\n",
        "plt.show()"
      ],
      "metadata": {
        "colab": {
          "base_uri": "https://localhost:8080/",
          "height": 279
        },
        "id": "OrYAS2hKkzBq",
        "outputId": "08cac9e9-f7f5-4630-bfe2-decf75727bf1"
      },
      "execution_count": null,
      "outputs": [
        {
          "output_type": "display_data",
          "data": {
            "text/plain": [
              "<Figure size 432x288 with 2 Axes>"
            ],
            "image/png": "[encoded data removed]"
          },
          "metadata": {
            "needs_background": "light"
          }
        }
      ]
    },
    {
      "cell_type": "code",
      "source": [
        "lr_precision, lr_recall, lr_f1_score, lr_accval, lr_aucval = calc_metrics(lr_cm,y_test,lr_pred_best,lr_probtest)\n",
        "print('Precision :',round(lr_precision,5))\n",
        "print('Recall    :',round(lr_recall,5))\n",
        "print('F1-score  :',round(lr_f1_score,5))\n",
        "print('Accuracy  :',round(lr_accval,5))\n",
        "print('AUC       :',round(lr_aucval,5))"
      ],
      "metadata": {
        "colab": {
          "base_uri": "https://localhost:8080/"
        },
        "id": "DSwhjyoylDSg",
        "outputId": "2728056a-02dc-4781-cd1e-448c9c89de50"
      },
      "execution_count": null,
      "outputs": [
        {
          "output_type": "stream",
          "name": "stdout",
          "text": [
            "Precision : 0.84817\n",
            "Recall    : 0.95464\n",
            "F1-score  : 0.89826\n",
            "Accuracy  : 0.92042\n",
            "AUC       : 0.99777\n"
          ]
        }
      ]
    },
    {
      "cell_type": "markdown",
      "source": [
        "#SVM"
      ],
      "metadata": {
        "id": "5UL9NKP3lTXQ"
      }
    },
    {
      "cell_type": "code",
      "source": [
        "svm_parameters = {'alpha':[10 ** x for x in range(-5, 5)]}\n",
        "svm_clf = SGDClassifier(loss='hinge',class_weight='balanced',random_state=30)\n",
        "svm_random = RandomizedSearchCV(svm_clf,param_distributions=svm_parameters,\n",
        "                               scoring='roc_auc',n_jobs=-1,cv=5,\n",
        "                               return_train_score=True)\n",
        "svm_random.fit(scaled_X_train,y_train)\n",
        "svm_calibrator = CalibratedClassifierCV(svm_random, method=\"sigmoid\")\n",
        "svm_model = svm_calibrator.fit(scaled_X_train, y_train)\n",
        "svm_ytrain_pred = svm_model.predict_proba(scaled_X_train)[:,1]\n",
        "svm_ytest_pred = svm_model.predict_proba(scaled_X_test)[:,1]\n",
        "print(\"Best alpha :\",svm_random.best_params_['alpha'])"
      ],
      "metadata": {
        "colab": {
          "base_uri": "https://localhost:8080/"
        },
        "outputId": "3c928f33-dad9-4982-b50d-73315662a946",
        "id": "KkVjWfWglTXR"
      },
      "execution_count": null,
      "outputs": [
        {
          "output_type": "stream",
          "name": "stdout",
          "text": [
            "Best alpha : 10\n"
          ]
        }
      ]
    },
    {
      "cell_type": "code",
      "source": [
        "plt.figure(figsize=(8,5))\n",
        "svm_alpha = svm_random.cv_results_['param_alpha']\n",
        "svm_train_auc = svm_random.cv_results_['mean_train_score']\n",
        "svm_test_auc = svm_random.cv_results_['mean_test_score']\n",
        "svm_log_alpha=[log(x) for x in svm_alpha]\n",
        "plt.plot(svm_log_alpha, svm_train_auc,color='red',label='Train AUC')\n",
        "plt.plot(svm_log_alpha, svm_test_auc, color='blue', label='Test AUC')\n",
        "plt.scatter(svm_log_alpha, svm_train_auc,color='red')\n",
        "plt.scatter(svm_log_alpha, svm_test_auc,color='blue')\n",
        "plt.title(\"Performance of the SVM model for various alpha values\")\n",
        "plt.xlabel(\"Hyper parameter alpha\")\n",
        "plt.ylabel(\"AUC values\")\n",
        "plt.legend()\n",
        "plt.grid()\n",
        "plt.show()"
      ],
      "metadata": {
        "colab": {
          "base_uri": "https://localhost:8080/",
          "height": 350
        },
        "outputId": "935b0268-a13b-4d1f-f2e9-1f81edd96dad",
        "id": "ujyFhxzhlTXR"
      },
      "execution_count": null,
      "outputs": [
        {
          "output_type": "display_data",
          "data": {
            "text/plain": [
              "<Figure size 576x360 with 1 Axes>"
            ],
            "image/png": "[encoded data removed]"
          },
          "metadata": {
            "needs_background": "light"
          }
        }
      ]
    },
    {
      "cell_type": "code",
      "source": [
        "svm_best_alpha = svm_random.best_params_['alpha']\n",
        "svm_best_model = SGDClassifier(alpha=svm_best_alpha, loss='hinge',random_state=30)\n",
        "svm_best_model.fit(scaled_X_train,y_train)"
      ],
      "metadata": {
        "colab": {
          "base_uri": "https://localhost:8080/"
        },
        "outputId": "11c2884e-a8ab-4454-abae-af54f4b1dcf7",
        "id": "jKhPCtfzlTXS"
      },
      "execution_count": null,
      "outputs": [
        {
          "output_type": "execute_result",
          "data": {
            "text/plain": [
              "SGDClassifier(alpha=10, random_state=30)"
            ]
          },
          "metadata": {},
          "execution_count": 242
        }
      ]
    },
    {
      "cell_type": "code",
      "source": [
        "svm_pred_best = svm_best_model.predict(scaled_X_test)\n",
        "svm_cm = confusion_matrix(y_test,svm_pred_best)\n",
        "disp = ConfusionMatrixDisplay(confusion_matrix=svm_cm)\n",
        "disp.plot()\n",
        "plt.show()"
      ],
      "metadata": {
        "colab": {
          "base_uri": "https://localhost:8080/",
          "height": 283
        },
        "outputId": "9fe997e3-65e6-467a-db01-3c1c271624ae",
        "id": "FcnO24EBlTXS"
      },
      "execution_count": null,
      "outputs": [
        {
          "output_type": "display_data",
          "data": {
            "text/plain": [
              "<Figure size 432x288 with 2 Axes>"
            ],
            "image/png": "[encoded data removed]"
          },
          "metadata": {
            "needs_background": "light"
          }
        }
      ]
    },
    {
      "cell_type": "code",
      "source": [
        "svm_precision, svm_recall, svm_f1_score, svm_accval, svm_aucval = calc_metrics(svm_cm,y_test,svm_pred_best,svm_ytest_pred)\n",
        "print('Precision :',round(svm_precision,5))\n",
        "print('Recall    :',round(svm_recall,5))\n",
        "print('F1-score  :',round(svm_f1_score,5))\n",
        "print('Accuracy  :',round(svm_accval,5))\n",
        "print('AUC       :',round(svm_aucval,5))"
      ],
      "metadata": {
        "colab": {
          "base_uri": "https://localhost:8080/"
        },
        "outputId": "63a15b7c-cfbe-46a5-9997-50ceb1fa109d",
        "id": "UXVU5JjXlTXT"
      },
      "execution_count": null,
      "outputs": [
        {
          "output_type": "stream",
          "name": "stdout",
          "text": [
            "Precision : 0.87643\n",
            "Recall    : 0.94023\n",
            "F1-score  : 0.90721\n",
            "Accuracy  : 0.92922\n",
            "AUC       : 0.99442\n"
          ]
        }
      ]
    },
    {
      "cell_type": "markdown",
      "source": [
        "#Naive Bayes"
      ],
      "metadata": {
        "id": "b1ek-_mb6zGG"
      }
    },
    {
      "cell_type": "code",
      "source": [
        "nb_parameters = {'alpha':[10 ** x for x in range(-5, 5)]}\n",
        "nb_clf = MultinomialNB(class_prior=[0.5,0.5])\n",
        "nb_random = RandomizedSearchCV(nb_clf,param_distributions=nb_parameters,\n",
        "                               scoring='roc_auc',n_jobs=-1,cv=5,\n",
        "                               return_train_score=True)\n",
        "nb_random.fit(scaled_X_train,y_train)\n",
        "nb_probtest = nb_random.predict_proba(scaled_X_test)[:,1]\n",
        "print(\"Best alpha :\",nb_random.best_params_['alpha'])"
      ],
      "metadata": {
        "colab": {
          "base_uri": "https://localhost:8080/"
        },
        "id": "luVk86on0CRI",
        "outputId": "ee566167-4d66-44e5-e10f-fc47d65037fd"
      },
      "execution_count": null,
      "outputs": [
        {
          "output_type": "stream",
          "name": "stdout",
          "text": [
            "Best alpha : 10000\n"
          ]
        }
      ]
    },
    {
      "cell_type": "code",
      "source": [
        "#From Naive Bayes Assignment\n",
        "plt.figure(figsize=(8,5))\n",
        "nb_alpha=nb_random.cv_results_['param_alpha']\n",
        "nb_train_auc = nb_random.cv_results_['mean_train_score']\n",
        "nb_test_auc = nb_random.cv_results_['mean_test_score']\n",
        "nb_log_alpha=[log(x) for x in nb_alpha]\n",
        "plt.plot(nb_log_alpha, nb_train_auc,color='red',label='Train AUC')\n",
        "plt.plot(nb_log_alpha, nb_test_auc, color='blue', label='Test AUC')\n",
        "plt.scatter(nb_log_alpha, nb_train_auc,color='red')\n",
        "plt.scatter(nb_log_alpha, nb_test_auc,color='blue')\n",
        "plt.title(\"Performance of the Naive Bayes model for various alpha values\")\n",
        "plt.xlabel(\"Hyper parameter alpha\")\n",
        "plt.ylabel(\"AUC values\")\n",
        "plt.legend()\n",
        "plt.grid()\n",
        "plt.show()"
      ],
      "metadata": {
        "colab": {
          "base_uri": "https://localhost:8080/",
          "height": 350
        },
        "id": "YTsutyDB1cM_",
        "outputId": "a2ec2bf9-3182-438a-eafa-52aa58d57bbd"
      },
      "execution_count": null,
      "outputs": [
        {
          "output_type": "display_data",
          "data": {
            "text/plain": [
              "<Figure size 576x360 with 1 Axes>"
            ],
            "image/png": "[encoded data removed]"
          },
          "metadata": {
            "needs_background": "light"
          }
        }
      ]
    },
    {
      "cell_type": "code",
      "source": [
        "nb_best_alpha = nb_random.best_params_['alpha']\n",
        "nb_best_model=MultinomialNB(alpha=[nb_best_alpha],class_prior=[0.5,0.5])\n",
        "nb_best_model.fit(scaled_X_train,y_train)"
      ],
      "metadata": {
        "colab": {
          "base_uri": "https://localhost:8080/"
        },
        "id": "ekuaecxs5Le-",
        "outputId": "09bbc6e0-681a-4db1-d301-96137e865006"
      },
      "execution_count": null,
      "outputs": [
        {
          "output_type": "execute_result",
          "data": {
            "text/plain": [
              "MultinomialNB(alpha=[10000], class_prior=[0.5, 0.5])"
            ]
          },
          "metadata": {},
          "execution_count": 226
        }
      ]
    },
    {
      "cell_type": "code",
      "source": [
        "nb_pred_best = nb_best_model.predict(scaled_X_test)\n",
        "nb_cm = confusion_matrix(y_test,nb_pred_best)\n",
        "disp = ConfusionMatrixDisplay(confusion_matrix=nb_cm)\n",
        "disp.plot()\n",
        "plt.show()"
      ],
      "metadata": {
        "colab": {
          "base_uri": "https://localhost:8080/",
          "height": 279
        },
        "id": "APIl7Hsc5S3e",
        "outputId": "eabc3738-5d0b-469e-c26a-7aad99ba6139"
      },
      "execution_count": null,
      "outputs": [
        {
          "output_type": "display_data",
          "data": {
            "text/plain": [
              "<Figure size 432x288 with 2 Axes>"
            ],
            "image/png": "[encoded data removed]"
          },
          "metadata": {
            "needs_background": "light"
          }
        }
      ]
    },
    {
      "cell_type": "code",
      "source": [
        "nb_precision, nb_recall, nb_f1_score, nb_accval, nb_aucval = calc_metrics(nb_cm,y_test,nb_pred_best,nb_probtest)\n",
        "print('Precision :',round(nb_precision,5))\n",
        "print('Recall    :',round(nb_recall,5))\n",
        "print('F1-score  :',round(nb_f1_score,5))\n",
        "print('Accuracy  :',round(nb_accval,5))\n",
        "print('AUC       :',round(nb_aucval,5))"
      ],
      "metadata": {
        "colab": {
          "base_uri": "https://localhost:8080/"
        },
        "id": "w2FCc-6Yo3V-",
        "outputId": "512d49f5-1ffb-4b4a-9533-c10892bfc9d6"
      },
      "execution_count": null,
      "outputs": [
        {
          "output_type": "stream",
          "name": "stdout",
          "text": [
            "Precision : 0.8046\n",
            "Recall    : 0.95851\n",
            "F1-score  : 0.87484\n",
            "Accuracy  : 0.89907\n",
            "AUC       : 0.98557\n"
          ]
        }
      ]
    },
    {
      "cell_type": "markdown",
      "source": [
        "#LightGBM"
      ],
      "metadata": {
        "id": "Ov8CIda18Yz7"
      }
    },
    {
      "cell_type": "code",
      "source": [
        "lgbm_params={\n",
        "     'n_estimators':[50, 150, 200, 250, 300, 350],\n",
        "     'max_depth':[1, 3, 5, 7, 9]\n",
        "        }\n",
        "lgbm_clf = lgb.LGBMClassifier(class_weight='balanced',random_state=0)\n",
        "lgbm_random = RandomizedSearchCV(lgbm_clf, param_distributions=lgbm_params, \n",
        "                              verbose=20, n_jobs=-1, random_state = 0,\n",
        "                              scoring='roc_auc',cv=5,return_train_score=True)\n",
        "lgbm_random.fit(scaled_X_train, y_train)\n",
        "lgbm_probtest = lgbm_random.predict_proba(scaled_X_test)[:,1]\n",
        "print(lgbm_random.best_params_)"
      ],
      "metadata": {
        "colab": {
          "base_uri": "https://localhost:8080/"
        },
        "id": "Cqg7jDm68b7y",
        "outputId": "8d348e13-8335-4411-ac75-a17db792452b"
      },
      "execution_count": null,
      "outputs": [
        {
          "output_type": "stream",
          "name": "stdout",
          "text": [
            "Fitting 5 folds for each of 10 candidates, totalling 50 fits\n",
            "{'n_estimators': 200, 'max_depth': 9}\n"
          ]
        }
      ]
    },
    {
      "cell_type": "code",
      "source": [
        "parameters = lgbm_random.cv_results_['params']\n",
        "lst=[]\n",
        "for item in range(len(parameters)):\n",
        "    lst.append(str(parameters[item]['n_estimators'])+\",\"+str(parameters[item]['max_depth']))"
      ],
      "metadata": {
        "id": "SeSU8YCOCVGe"
      },
      "execution_count": null,
      "outputs": []
    },
    {
      "cell_type": "code",
      "source": [
        "plt.figure(figsize=(8,5)) \n",
        "lgbm_train_auc = lgbm_random.cv_results_['mean_train_score']\n",
        "lgbm_test_auc  = lgbm_random.cv_results_['mean_test_score']\n",
        "plt.plot(lst, lgbm_train_auc,color='red',label='Train AUC')\n",
        "plt.plot(lst, lgbm_test_auc, color='blue', label='Test AUC')\n",
        "plt.scatter(lst, lgbm_train_auc,color='red')\n",
        "plt.scatter(lst, lgbm_test_auc,color='blue')\n",
        "plt.title(\"Performance of the LightGBM model for various n_estimators and max_depth values\")\n",
        "plt.xlabel(\"Hyper parameter n_estimators and max_depth\")\n",
        "plt.ylabel(\"AUC values\")\n",
        "plt.legend()\n",
        "plt.grid()\n",
        "plt.show()"
      ],
      "metadata": {
        "colab": {
          "base_uri": "https://localhost:8080/",
          "height": 351
        },
        "id": "x7uCYygA5gXN",
        "outputId": "0ba12469-35a8-45a1-aa60-5d1ae88c2e63"
      },
      "execution_count": null,
      "outputs": [
        {
          "output_type": "display_data",
          "data": {
            "text/plain": [
              "<Figure size 576x360 with 1 Axes>"
            ],
            "image/png": "[encoded data removed]"
          },
          "metadata": {
            "needs_background": "light"
          }
        }
      ]
    },
    {
      "cell_type": "code",
      "source": [
        "n_estimators = lgbm_random.best_params_['n_estimators']\n",
        "max_depth = lgbm_random.best_params_['max_depth']\n",
        "lgbm_best_model = lgb.LGBMClassifier(n_estimators=n_estimators,max_depth=max_depth,\n",
        "                             class_weight='balanced',random_state=0,first_metric_only = True)\n",
        "lgbm_best_model.fit(scaled_X_train,y_train,eval_set=[(scaled_X_test,y_test),(scaled_X_train,y_train)],\n",
        "          verbose=20,eval_metric='auc')"
      ],
      "metadata": {
        "colab": {
          "base_uri": "https://localhost:8080/"
        },
        "id": "Fn3QOX5Q9y5i",
        "outputId": "413a6bc3-3b46-4a83-a424-da587c01e5f3"
      },
      "execution_count": null,
      "outputs": [
        {
          "output_type": "stream",
          "name": "stdout",
          "text": [
            "[20]\ttraining's auc: 0.999233\ttraining's binary_logloss: 0.0845241\tvalid_0's auc: 0.998496\tvalid_0's binary_logloss: 0.0865922\n",
            "[40]\ttraining's auc: 0.999752\ttraining's binary_logloss: 0.0209774\tvalid_0's auc: 0.999198\tvalid_0's binary_logloss: 0.0237091\n",
            "[60]\ttraining's auc: 0.999925\ttraining's binary_logloss: 0.00903114\tvalid_0's auc: 0.999582\tvalid_0's binary_logloss: 0.013529\n",
            "[80]\ttraining's auc: 0.999948\ttraining's binary_logloss: 0.00600348\tvalid_0's auc: 0.999652\tvalid_0's binary_logloss: 0.0114036\n",
            "[100]\ttraining's auc: 0.999959\ttraining's binary_logloss: 0.00470788\tvalid_0's auc: 0.999693\tvalid_0's binary_logloss: 0.0102926\n",
            "[120]\ttraining's auc: 0.999974\ttraining's binary_logloss: 0.00387852\tvalid_0's auc: 0.999731\tvalid_0's binary_logloss: 0.00941991\n",
            "[140]\ttraining's auc: 0.999982\ttraining's binary_logloss: 0.00345544\tvalid_0's auc: 0.999712\tvalid_0's binary_logloss: 0.00921361\n",
            "[160]\ttraining's auc: 0.999984\ttraining's binary_logloss: 0.00319057\tvalid_0's auc: 0.999687\tvalid_0's binary_logloss: 0.00915831\n",
            "[180]\ttraining's auc: 0.999985\ttraining's binary_logloss: 0.00301612\tvalid_0's auc: 0.999692\tvalid_0's binary_logloss: 0.00936345\n",
            "[200]\ttraining's auc: 0.999985\ttraining's binary_logloss: 0.00291441\tvalid_0's auc: 0.99967\tvalid_0's binary_logloss: 0.00947922\n"
          ]
        },
        {
          "output_type": "execute_result",
          "data": {
            "text/plain": [
              "LGBMClassifier(class_weight='balanced', first_metric_only=True, max_depth=9,\n",
              "               n_estimators=200, random_state=0)"
            ]
          },
          "metadata": {},
          "execution_count": 232
        }
      ]
    },
    {
      "cell_type": "code",
      "source": [
        "lgbm_pred_best = lgbm_best_model.predict(scaled_X_test)\n",
        "lgbm_cm = confusion_matrix(y_test,lgbm_pred_best)\n",
        "disp = ConfusionMatrixDisplay(confusion_matrix=lgbm_cm)\n",
        "disp.plot()\n",
        "plt.show()"
      ],
      "metadata": {
        "colab": {
          "base_uri": "https://localhost:8080/",
          "height": 279
        },
        "id": "T9accFIOGHdD",
        "outputId": "fa63c425-5989-4e50-a123-5071898c5c25"
      },
      "execution_count": null,
      "outputs": [
        {
          "output_type": "display_data",
          "data": {
            "text/plain": [
              "<Figure size 432x288 with 2 Axes>"
            ],
            "image/png": "[encoded data removed]"
          },
          "metadata": {
            "needs_background": "light"
          }
        }
      ]
    },
    {
      "cell_type": "code",
      "source": [
        "lgbm_precision, lgbm_recall, lgbm_f1_score, lgbm_accval, lgbm_aucval = calc_metrics(lgbm_cm,y_test,lgbm_pred_best,lgbm_probtest)\n",
        "print('Precision :',round(lgbm_precision,5))\n",
        "print('Recall    :',round(lgbm_recall,5))\n",
        "print('F1-score  :',round(lgbm_f1_score,5))\n",
        "print('Accuracy  :',round(lgbm_accval,5))\n",
        "print('AUC       :',round(lgbm_aucval,5))"
      ],
      "metadata": {
        "colab": {
          "base_uri": "https://localhost:8080/"
        },
        "id": "74AnbuGzGUF2",
        "outputId": "c0cdb313-eebc-4b42-e04e-fe0597ed06fe"
      },
      "execution_count": null,
      "outputs": [
        {
          "output_type": "stream",
          "name": "stdout",
          "text": [
            "Precision : 0.99789\n",
            "Recall    : 0.99613\n",
            "F1-score  : 0.99701\n",
            "Accuracy  : 0.9978\n",
            "AUC       : 0.99967\n"
          ]
        }
      ]
    },
    {
      "cell_type": "markdown",
      "source": [
        "We can observe that LightGBM model gives best values of performance metrics. "
      ],
      "metadata": {
        "id": "qDG9s6ty-MQH"
      }
    },
    {
      "cell_type": "code",
      "source": [
        "myTable = PrettyTable([\"Model\", \"Precision\", \"Recall\", \"F1-score\", \"Accuracy\", \"AUC\"])\n",
        "\n",
        "myTable.add_row([\"LR\", \"0.84817\", \"0.95464\", \"0.89826\",\"0.92042\",\"0.99777\"])\n",
        "myTable.add_row([\"SVM\", \"0.87643\", \"0.94023\", \"0.90721\", \"0.92922\", \"0.99442\"])\n",
        "myTable.add_row([\"Naive Bayes\", \"0.8046\", \"0.95851\", \"0.87484\", \"0.89907\", \"0.98557\"])\n",
        "myTable.add_row([\"LightGBM\", \"0.99789\", \"0.99613\", \"0.99701\", \"0.9978\", \"0.99967\"])\n",
        "print(myTable)"
      ],
      "metadata": {
        "colab": {
          "base_uri": "https://localhost:8080/"
        },
        "id": "tDFBJHczGNz2",
        "outputId": "c629ca57-f8a4-4047-e2a6-80432383a2b2"
      },
      "execution_count": null,
      "outputs": [
        {
          "output_type": "stream",
          "name": "stdout",
          "text": [
            "+-------------+-----------+---------+----------+----------+---------+\n",
            "|    Model    | Precision |  Recall | F1-score | Accuracy |   AUC   |\n",
            "+-------------+-----------+---------+----------+----------+---------+\n",
            "|      LR     |  0.84817  | 0.95464 | 0.89826  | 0.92042  | 0.99777 |\n",
            "|     SVM     |  0.87643  | 0.94023 | 0.90721  | 0.92922  | 0.99442 |\n",
            "| Naive Bayes |   0.8046  | 0.95851 | 0.87484  | 0.89907  | 0.98557 |\n",
            "|   LightGBM  |  0.99789  | 0.99613 | 0.99701  |  0.9978  | 0.99967 |\n",
            "+-------------+-----------+---------+----------+----------+---------+\n"
          ]
        }
      ]
    }
  ]
}